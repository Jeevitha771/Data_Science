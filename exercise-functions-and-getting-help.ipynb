{
 "cells": [
  {
   "cell_type": "markdown",
   "id": "e6ffd23e",
   "metadata": {
    "papermill": {
     "duration": 0.01944,
     "end_time": "2022-04-25T17:27:31.120056",
     "exception": false,
     "start_time": "2022-04-25T17:27:31.100616",
     "status": "completed"
    },
    "tags": []
   },
   "source": [
    "**This notebook is an exercise in the [Python](https://www.kaggle.com/learn/python) course.  You can reference the tutorial at [this link](https://www.kaggle.com/colinmorris/functions-and-getting-help).**\n",
    "\n",
    "---\n"
   ]
  },
  {
   "cell_type": "markdown",
   "id": "fb721bba",
   "metadata": {
    "papermill": {
     "duration": 0.017752,
     "end_time": "2022-04-25T17:27:31.155987",
     "exception": false,
     "start_time": "2022-04-25T17:27:31.138235",
     "status": "completed"
    },
    "tags": []
   },
   "source": [
    "Functions are powerful. Try writing some yourself.\n",
    "\n",
    "As before, don't forget to run the setup code below before jumping into question 1."
   ]
  },
  {
   "cell_type": "code",
   "execution_count": 1,
   "id": "cbdd2924",
   "metadata": {
    "_kg_hide-input": true,
    "_kg_hide-output": true,
    "execution": {
     "iopub.execute_input": "2022-04-25T17:27:31.194856Z",
     "iopub.status.busy": "2022-04-25T17:27:31.194469Z",
     "iopub.status.idle": "2022-04-25T17:27:31.239875Z",
     "shell.execute_reply": "2022-04-25T17:27:31.238908Z"
    },
    "papermill": {
     "duration": 0.068468,
     "end_time": "2022-04-25T17:27:31.242835",
     "exception": false,
     "start_time": "2022-04-25T17:27:31.174367",
     "status": "completed"
    },
    "tags": []
   },
   "outputs": [
    {
     "name": "stdout",
     "output_type": "stream",
     "text": [
      "Setup complete.\n"
     ]
    }
   ],
   "source": [
    "# SETUP. You don't need to worry for now about what this code does or how it works.\n",
    "from learntools.core import binder; binder.bind(globals())\n",
    "from learntools.python.ex2 import *\n",
    "print('Setup complete.')"
   ]
  },
  {
   "cell_type": "markdown",
   "id": "c935073a",
   "metadata": {
    "papermill": {
     "duration": 0.017557,
     "end_time": "2022-04-25T17:27:31.280791",
     "exception": false,
     "start_time": "2022-04-25T17:27:31.263234",
     "status": "completed"
    },
    "tags": []
   },
   "source": [
    "# 1.\n",
    "\n",
    "Complete the body of the following function according to its docstring.\n",
    "\n",
    "HINT: Python has a built-in function `round`."
   ]
  },
  {
   "cell_type": "code",
   "execution_count": 2,
   "id": "9a826311",
   "metadata": {
    "execution": {
     "iopub.execute_input": "2022-04-25T17:27:31.319120Z",
     "iopub.status.busy": "2022-04-25T17:27:31.318481Z",
     "iopub.status.idle": "2022-04-25T17:27:31.329476Z",
     "shell.execute_reply": "2022-04-25T17:27:31.328510Z"
    },
    "papermill": {
     "duration": 0.033204,
     "end_time": "2022-04-25T17:27:31.331831",
     "exception": false,
     "start_time": "2022-04-25T17:27:31.298627",
     "status": "completed"
    },
    "tags": []
   },
   "outputs": [
    {
     "data": {
      "application/javascript": [
       "parent.postMessage({\"jupyterEvent\": \"custom.exercise_interaction\", \"data\": {\"outcomeType\": 1, \"valueTowardsCompletion\": 0.16666666666666666, \"interactionType\": 1, \"questionType\": 2, \"questionId\": \"1_RoundFunctionProblem\", \"learnToolsVersion\": \"0.3.4\", \"failureMessage\": \"\", \"exceptionClass\": \"\", \"trace\": \"\"}}, \"*\")"
      ],
      "text/plain": [
       "<IPython.core.display.Javascript object>"
      ]
     },
     "metadata": {},
     "output_type": "display_data"
    },
    {
     "data": {
      "text/markdown": [
       "<span style=\"color:#33cc33\">Correct</span>"
      ],
      "text/plain": [
       "Correct"
      ]
     },
     "metadata": {},
     "output_type": "display_data"
    }
   ],
   "source": [
    "def round_to_two_places(num):\n",
    "    \"\"\"Return the given number rounded to two decimal places. \n",
    "    \n",
    "    >>> round_to_two_places(3.14159)\n",
    "    3.14\n",
    "    \"\"\"\n",
    "    # Replace this body with your own code.\n",
    "    # (\"pass\" is a keyword that does literally nothing. We used it as a placeholder\n",
    "    # because after we begin a code block, Python requires at least one line of code)\n",
    "    return round(num, 2)\n",
    "    pass\n",
    "\n",
    "# Check your answer\n",
    "q1.check()"
   ]
  },
  {
   "cell_type": "code",
   "execution_count": 3,
   "id": "16ec4bdd",
   "metadata": {
    "execution": {
     "iopub.execute_input": "2022-04-25T17:27:31.374621Z",
     "iopub.status.busy": "2022-04-25T17:27:31.373685Z",
     "iopub.status.idle": "2022-04-25T17:27:31.381900Z",
     "shell.execute_reply": "2022-04-25T17:27:31.381243Z"
    },
    "papermill": {
     "duration": 0.030936,
     "end_time": "2022-04-25T17:27:31.383901",
     "exception": false,
     "start_time": "2022-04-25T17:27:31.352965",
     "status": "completed"
    },
    "tags": []
   },
   "outputs": [
    {
     "data": {
      "application/javascript": [
       "parent.postMessage({\"jupyterEvent\": \"custom.exercise_interaction\", \"data\": {\"interactionType\": 3, \"questionType\": 2, \"questionId\": \"1_RoundFunctionProblem\", \"learnToolsVersion\": \"0.3.4\", \"valueTowardsCompletion\": 0.0, \"failureMessage\": \"\", \"exceptionClass\": \"\", \"trace\": \"\", \"outcomeType\": 4}}, \"*\")"
      ],
      "text/plain": [
       "<IPython.core.display.Javascript object>"
      ]
     },
     "metadata": {},
     "output_type": "display_data"
    },
    {
     "data": {
      "text/markdown": [
       "<span style=\"color:#33cc99\">Solution:</span> \n",
       "```python\n",
       "return round(num, 2)\n",
       "```"
      ],
      "text/plain": [
       "Solution: \n",
       "```python\n",
       "return round(num, 2)\n",
       "```"
      ]
     },
     "metadata": {},
     "output_type": "display_data"
    }
   ],
   "source": [
    "# Uncomment the following for a hint\n",
    "#q1.hint()\n",
    "# Or uncomment the following to peek at the solution\n",
    "q1.solution()"
   ]
  },
  {
   "cell_type": "markdown",
   "id": "d68a230b",
   "metadata": {
    "papermill": {
     "duration": 0.021007,
     "end_time": "2022-04-25T17:27:31.426399",
     "exception": false,
     "start_time": "2022-04-25T17:27:31.405392",
     "status": "completed"
    },
    "tags": []
   },
   "source": [
    "# 2.\n",
    "The help for `round` says that `ndigits` (the second argument) may be negative.\n",
    "What do you think will happen when it is? Try some examples in the following cell."
   ]
  },
  {
   "cell_type": "code",
   "execution_count": 4,
   "id": "3c020ad5",
   "metadata": {
    "execution": {
     "iopub.execute_input": "2022-04-25T17:27:31.472128Z",
     "iopub.status.busy": "2022-04-25T17:27:31.471406Z",
     "iopub.status.idle": "2022-04-25T17:27:31.478106Z",
     "shell.execute_reply": "2022-04-25T17:27:31.477216Z"
    },
    "papermill": {
     "duration": 0.031468,
     "end_time": "2022-04-25T17:27:31.480259",
     "exception": false,
     "start_time": "2022-04-25T17:27:31.448791",
     "status": "completed"
    },
    "tags": []
   },
   "outputs": [
    {
     "data": {
      "text/plain": [
       "-2"
      ]
     },
     "execution_count": 4,
     "metadata": {},
     "output_type": "execute_result"
    }
   ],
   "source": [
    "\n",
    "ndigits=-1\n",
    "ndigits=-2# Put your test code here\n",
    "round(ndigits)"
   ]
  },
  {
   "cell_type": "markdown",
   "id": "b7bab244",
   "metadata": {
    "papermill": {
     "duration": 0.02116,
     "end_time": "2022-04-25T17:27:31.522465",
     "exception": false,
     "start_time": "2022-04-25T17:27:31.501305",
     "status": "completed"
    },
    "tags": []
   },
   "source": [
    "Can you think of a case where this would be useful?  Once you're ready, run the code cell below to see the answer and to receive credit for completing the problem."
   ]
  },
  {
   "cell_type": "code",
   "execution_count": 5,
   "id": "5bee172c",
   "metadata": {
    "execution": {
     "iopub.execute_input": "2022-04-25T17:27:31.565757Z",
     "iopub.status.busy": "2022-04-25T17:27:31.564985Z",
     "iopub.status.idle": "2022-04-25T17:27:31.572941Z",
     "shell.execute_reply": "2022-04-25T17:27:31.572055Z"
    },
    "papermill": {
     "duration": 0.032251,
     "end_time": "2022-04-25T17:27:31.575274",
     "exception": false,
     "start_time": "2022-04-25T17:27:31.543023",
     "status": "completed"
    },
    "tags": []
   },
   "outputs": [
    {
     "data": {
      "application/javascript": [
       "parent.postMessage({\"jupyterEvent\": \"custom.exercise_interaction\", \"data\": {\"interactionType\": 3, \"questionType\": 4, \"questionId\": \"2_RoundNdigitsProblem\", \"learnToolsVersion\": \"0.3.4\", \"valueTowardsCompletion\": 0.0, \"failureMessage\": \"\", \"exceptionClass\": \"\", \"trace\": \"\", \"outcomeType\": 4}}, \"*\")"
      ],
      "text/plain": [
       "<IPython.core.display.Javascript object>"
      ]
     },
     "metadata": {},
     "output_type": "display_data"
    },
    {
     "data": {
      "text/markdown": [
       "<span style=\"color:#33cc99\">Solution:</span> As you've seen, `ndigits=-1` rounds to the nearest 10, `ndigits=-2` rounds to the nearest 100 and so on. Where might this be useful? Suppose we're dealing with large numbers:\n",
       "\n",
       "> The area of Finland is 338,424 km²  \n",
       "> The area of Greenland is 2,166,086 km²\n",
       "\n",
       "We probably don't care whether it's really 338,424, or 338,425, or 338,177. All those digits of accuracy are just distracting. We can chop them off by calling `round()` with `ndigits=-3`:\n",
       "\n",
       "> The area of Finland is 338,000 km²  \n",
       "> The area of Greenland is 2,166,000 km²\n",
       "\n",
       "(We'll talk about how we would get the commas later when we talk about string formatting :))\n"
      ],
      "text/plain": [
       "Solution: As you've seen, `ndigits=-1` rounds to the nearest 10, `ndigits=-2` rounds to the nearest 100 and so on. Where might this be useful? Suppose we're dealing with large numbers:\n",
       "\n",
       "> The area of Finland is 338,424 km²  \n",
       "> The area of Greenland is 2,166,086 km²\n",
       "\n",
       "We probably don't care whether it's really 338,424, or 338,425, or 338,177. All those digits of accuracy are just distracting. We can chop them off by calling `round()` with `ndigits=-3`:\n",
       "\n",
       "> The area of Finland is 338,000 km²  \n",
       "> The area of Greenland is 2,166,000 km²\n",
       "\n",
       "(We'll talk about how we would get the commas later when we talk about string formatting :))"
      ]
     },
     "metadata": {},
     "output_type": "display_data"
    }
   ],
   "source": [
    "ndigits=-1\n",
    "# Check your answer (Run this code cell to receive credit!)\n",
    "q2.solution()"
   ]
  },
  {
   "cell_type": "markdown",
   "id": "7c01fa60",
   "metadata": {
    "papermill": {
     "duration": 0.022072,
     "end_time": "2022-04-25T17:27:31.620143",
     "exception": false,
     "start_time": "2022-04-25T17:27:31.598071",
     "status": "completed"
    },
    "tags": []
   },
   "source": [
    "# 3.\n",
    "\n",
    "In the previous exercise, the candy-sharing friends Alice, Bob and Carol tried to split candies evenly. For the sake of their friendship, any candies left over would be smashed. For example, if they collectively bring home 91 candies, they'll take 30 each and smash 1.\n",
    "\n",
    "Below is a simple function that will calculate the number of candies to smash for *any* number of total candies.\n",
    "\n",
    "Modify it so that it optionally takes a second argument representing the number of friends the candies are being split between. If no second argument is provided, it should assume 3 friends, as before.\n",
    "\n",
    "Update the docstring to reflect this new behaviour."
   ]
  },
  {
   "cell_type": "code",
   "execution_count": 6,
   "id": "95d4a8eb",
   "metadata": {
    "execution": {
     "iopub.execute_input": "2022-04-25T17:27:31.668594Z",
     "iopub.status.busy": "2022-04-25T17:27:31.667583Z",
     "iopub.status.idle": "2022-04-25T17:27:31.676252Z",
     "shell.execute_reply": "2022-04-25T17:27:31.675054Z"
    },
    "papermill": {
     "duration": 0.034009,
     "end_time": "2022-04-25T17:27:31.678368",
     "exception": false,
     "start_time": "2022-04-25T17:27:31.644359",
     "status": "completed"
    },
    "tags": []
   },
   "outputs": [
    {
     "data": {
      "application/javascript": [
       "parent.postMessage({\"jupyterEvent\": \"custom.exercise_interaction\", \"data\": {\"outcomeType\": 1, \"valueTowardsCompletion\": 0.16666666666666666, \"interactionType\": 1, \"questionType\": 2, \"questionId\": \"3_CandySmashingFunctionProblem\", \"learnToolsVersion\": \"0.3.4\", \"failureMessage\": \"\", \"exceptionClass\": \"\", \"trace\": \"\"}}, \"*\")"
      ],
      "text/plain": [
       "<IPython.core.display.Javascript object>"
      ]
     },
     "metadata": {},
     "output_type": "display_data"
    },
    {
     "data": {
      "text/markdown": [
       "<span style=\"color:#33cc33\">Correct</span>"
      ],
      "text/plain": [
       "Correct"
      ]
     },
     "metadata": {},
     "output_type": "display_data"
    }
   ],
   "source": [
    "\n",
    "\n",
    "def to_smash(total_candies, n_friends=3):\n",
    "    return total_candies % n_friends\n",
    "\n",
    "\n",
    "# Check your answer\n",
    "q3.check()"
   ]
  },
  {
   "cell_type": "code",
   "execution_count": 7,
   "id": "e5655aa2",
   "metadata": {
    "execution": {
     "iopub.execute_input": "2022-04-25T17:27:31.728499Z",
     "iopub.status.busy": "2022-04-25T17:27:31.727989Z",
     "iopub.status.idle": "2022-04-25T17:27:31.731741Z",
     "shell.execute_reply": "2022-04-25T17:27:31.730844Z"
    },
    "papermill": {
     "duration": 0.031911,
     "end_time": "2022-04-25T17:27:31.733996",
     "exception": false,
     "start_time": "2022-04-25T17:27:31.702085",
     "status": "completed"
    },
    "tags": []
   },
   "outputs": [],
   "source": [
    "#q3.hint()"
   ]
  },
  {
   "cell_type": "code",
   "execution_count": 8,
   "id": "76b0a4eb",
   "metadata": {
    "execution": {
     "iopub.execute_input": "2022-04-25T17:27:31.784907Z",
     "iopub.status.busy": "2022-04-25T17:27:31.784087Z",
     "iopub.status.idle": "2022-04-25T17:27:31.792288Z",
     "shell.execute_reply": "2022-04-25T17:27:31.791383Z"
    },
    "papermill": {
     "duration": 0.036099,
     "end_time": "2022-04-25T17:27:31.794415",
     "exception": false,
     "start_time": "2022-04-25T17:27:31.758316",
     "status": "completed"
    },
    "tags": []
   },
   "outputs": [
    {
     "data": {
      "application/javascript": [
       "parent.postMessage({\"jupyterEvent\": \"custom.exercise_interaction\", \"data\": {\"interactionType\": 3, \"questionType\": 2, \"questionId\": \"3_CandySmashingFunctionProblem\", \"learnToolsVersion\": \"0.3.4\", \"valueTowardsCompletion\": 0.0, \"failureMessage\": \"\", \"exceptionClass\": \"\", \"trace\": \"\", \"outcomeType\": 4}}, \"*\")"
      ],
      "text/plain": [
       "<IPython.core.display.Javascript object>"
      ]
     },
     "metadata": {},
     "output_type": "display_data"
    },
    {
     "data": {
      "text/markdown": [
       "<span style=\"color:#33cc99\">Solution:</span> \n",
       "```python\n",
       "def to_smash(total_candies, n_friends=3):\n",
       "    return total_candies % n_friends\n",
       "```"
      ],
      "text/plain": [
       "Solution: \n",
       "```python\n",
       "def to_smash(total_candies, n_friends=3):\n",
       "    return total_candies % n_friends\n",
       "```"
      ]
     },
     "metadata": {},
     "output_type": "display_data"
    }
   ],
   "source": [
    "\n",
    "q3.solution()"
   ]
  },
  {
   "cell_type": "markdown",
   "id": "cb48c7a9",
   "metadata": {
    "papermill": {
     "duration": 0.024641,
     "end_time": "2022-04-25T17:27:31.844661",
     "exception": false,
     "start_time": "2022-04-25T17:27:31.820020",
     "status": "completed"
    },
    "tags": []
   },
   "source": [
    "# 4. (Optional)\n",
    "\n",
    "It may not be fun, but reading and understanding error messages will be an important part of your Python career.\n",
    "\n",
    "Each code cell below contains some commented buggy code. For each cell...\n",
    "\n",
    "1. Read the code and predict what you think will happen when it's run.\n",
    "2. Then uncomment the code and run it to see what happens. (**Tip**: In the kernel editor, you can highlight several lines and press `ctrl`+`/` to toggle commenting.)\n",
    "3. Fix the code (so that it accomplishes its intended purpose without throwing an exception)\n",
    "\n",
    "<!-- TODO: should this be autochecked? Delta is probably pretty small. -->"
   ]
  },
  {
   "cell_type": "code",
   "execution_count": 9,
   "id": "2e197186",
   "metadata": {
    "execution": {
     "iopub.execute_input": "2022-04-25T17:27:31.899274Z",
     "iopub.status.busy": "2022-04-25T17:27:31.898432Z",
     "iopub.status.idle": "2022-04-25T17:27:31.904415Z",
     "shell.execute_reply": "2022-04-25T17:27:31.903582Z"
    },
    "papermill": {
     "duration": 0.033995,
     "end_time": "2022-04-25T17:27:31.906633",
     "exception": false,
     "start_time": "2022-04-25T17:27:31.872638",
     "status": "completed"
    },
    "tags": []
   },
   "outputs": [
    {
     "data": {
      "text/plain": [
       "10.0"
      ]
     },
     "execution_count": 9,
     "metadata": {},
     "output_type": "execute_result"
    }
   ],
   "source": [
    "round_to_two_places(9.9999)"
   ]
  },
  {
   "cell_type": "code",
   "execution_count": 10,
   "id": "422db0e1",
   "metadata": {
    "execution": {
     "iopub.execute_input": "2022-04-25T17:27:31.959731Z",
     "iopub.status.busy": "2022-04-25T17:27:31.959282Z",
     "iopub.status.idle": "2022-04-25T17:27:31.963427Z",
     "shell.execute_reply": "2022-04-25T17:27:31.962644Z"
    },
    "papermill": {
     "duration": 0.033967,
     "end_time": "2022-04-25T17:27:31.965748",
     "exception": false,
     "start_time": "2022-04-25T17:27:31.931781",
     "status": "completed"
    },
    "tags": []
   },
   "outputs": [],
   "source": [
    "x = -10\n",
    "y = 5\n",
    "# # Which of the two variables above has the smallest absolute value?\n",
    "smallest_abs = min((x, y))"
   ]
  },
  {
   "cell_type": "code",
   "execution_count": 11,
   "id": "e7a3f85d",
   "metadata": {
    "execution": {
     "iopub.execute_input": "2022-04-25T17:27:32.022355Z",
     "iopub.status.busy": "2022-04-25T17:27:32.021412Z",
     "iopub.status.idle": "2022-04-25T17:27:32.027171Z",
     "shell.execute_reply": "2022-04-25T17:27:32.026261Z"
    },
    "papermill": {
     "duration": 0.035981,
     "end_time": "2022-04-25T17:27:32.029141",
     "exception": false,
     "start_time": "2022-04-25T17:27:31.993160",
     "status": "completed"
    },
    "tags": []
   },
   "outputs": [
    {
     "name": "stdout",
     "output_type": "stream",
     "text": [
      "5\n"
     ]
    }
   ],
   "source": [
    " def f(x):\n",
    "    y = abs(x)\n",
    "    return y\n",
    "\n",
    "print(f(5))"
   ]
  },
  {
   "cell_type": "markdown",
   "id": "96d4f47b",
   "metadata": {
    "papermill": {
     "duration": 0.027617,
     "end_time": "2022-04-25T17:27:32.085582",
     "exception": false,
     "start_time": "2022-04-25T17:27:32.057965",
     "status": "completed"
    },
    "tags": []
   },
   "source": [
    "# Keep Going\n",
    "\n",
    "Nice job with the code. Next up, you'll learn about *conditionals*, which you'll need to **[write interesting programs](https://www.kaggle.com/colinmorris/booleans-and-conditionals)**. "
   ]
  },
  {
   "cell_type": "markdown",
   "id": "46367a8a",
   "metadata": {
    "papermill": {
     "duration": 0.025132,
     "end_time": "2022-04-25T17:27:32.137141",
     "exception": false,
     "start_time": "2022-04-25T17:27:32.112009",
     "status": "completed"
    },
    "tags": []
   },
   "source": [
    "---\n",
    "\n",
    "\n",
    "\n",
    "\n",
    "*Have questions or comments? Visit the [Learn Discussion forum](https://www.kaggle.com/learn-forum/161283) to chat with other Learners.*"
   ]
  }
 ],
 "metadata": {
  "kernelspec": {
   "display_name": "Python 3",
   "language": "python",
   "name": "python3"
  },
  "language_info": {
   "codemirror_mode": {
    "name": "ipython",
    "version": 3
   },
   "file_extension": ".py",
   "mimetype": "text/x-python",
   "name": "python",
   "nbconvert_exporter": "python",
   "pygments_lexer": "ipython3",
   "version": "3.7.12"
  },
  "papermill": {
   "default_parameters": {},
   "duration": 12.774091,
   "end_time": "2022-04-25T17:27:32.884212",
   "environment_variables": {},
   "exception": null,
   "input_path": "__notebook__.ipynb",
   "output_path": "__notebook__.ipynb",
   "parameters": {},
   "start_time": "2022-04-25T17:27:20.110121",
   "version": "2.3.4"
  }
 },
 "nbformat": 4,
 "nbformat_minor": 5
}
